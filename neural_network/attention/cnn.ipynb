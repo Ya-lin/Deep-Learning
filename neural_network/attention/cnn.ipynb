{
 "cells": [
  {
   "cell_type": "code",
   "execution_count": 1,
   "id": "384daf92-5611-4da3-bb36-1318b16eb21b",
   "metadata": {},
   "outputs": [],
   "source": [
    "import numpy as np\n",
    "from tqdm import tqdm\n",
    "from pathlib import Path\n",
    "from matplotlib import pyplot as plt\n",
    "\n",
    "import torch\n",
    "from torch import nn, optim\n",
    "from torch.utils.data import DataLoader\n",
    "\n",
    "from utils import set_seed\n",
    "from udata import get_mnist, LargestDigit"
   ]
  },
  {
   "cell_type": "code",
   "execution_count": 2,
   "id": "1e5e6800-23ce-4567-8c68-0426f8c8e60e",
   "metadata": {},
   "outputs": [],
   "source": [
    "set_seed()\n",
    "device = torch.device('cuda' if torch.cuda.is_available() else 'cpu')\n",
    "pdata = Path.home()/'Documents'/'Data'\n",
    "mnist_train = get_mnist(pdata)\n",
    "mnist_test = get_mnist(pdata, train=False)"
   ]
  },
  {
   "cell_type": "code",
   "execution_count": 3,
   "id": "04f0761a-585c-41ef-a62c-bca704c62eba",
   "metadata": {},
   "outputs": [],
   "source": [
    "bsize = 128\n",
    "epochs = 10\n",
    "largest_train = LargestDigit(mnist_train)\n",
    "largest_test = LargestDigit(mnist_test)\n",
    "train_loader = DataLoader(largest_train, batch_size=bsize, shuffle=True)\n",
    "test_loader = DataLoader(largest_test, batch_size=bsize)"
   ]
  },
  {
   "cell_type": "code",
   "execution_count": 4,
   "id": "3ae9277d-d04e-4550-8b17-5afd0ac6dd84",
   "metadata": {},
   "outputs": [
    {
     "data": {
      "image/png": "[encoded data removed]",
      "text/plain": [
       "<Figure size 1000x1000 with 3 Axes>"
      ]
     },
     "metadata": {},
     "output_type": "display_data"
    },
    {
     "name": "stdout",
     "output_type": "stream",
     "text": [
      "For (x,y), its label is 8.\n"
     ]
    }
   ],
   "source": [
    "set_seed(34)\n",
    "x, y = largest_train[0]\n",
    "\n",
    "f, axarr = plt.subplots(1,3, figsize=(10,10))\n",
    "for i in range(3):\n",
    "    axarr[i].imshow(x[i,0,:].numpy(), cmap='gray', vmin=0, vmax=1)\n",
    "plt.show()\n",
    "print(f'For (x,y), its label is {y}.')"
   ]
  },
  {
   "cell_type": "code",
   "execution_count": 5,
   "id": "5a55e1af-7bda-4edb-9143-db815a6a56de",
   "metadata": {},
   "outputs": [],
   "source": [
    "neurons = 256\n",
    "classes = 10\n",
    "simpleNet = nn.Sequential(\n",
    "    nn.Flatten(),\n",
    "    nn.Linear(784*3,neurons), # (28*28)*3, 3 images\n",
    "    nn.LeakyReLU(),\n",
    "    nn.BatchNorm1d(neurons),\n",
    "    nn.Linear(neurons,neurons),\n",
    "    nn.LeakyReLU(),\n",
    "    nn.BatchNorm1d(neurons),\n",
    "    nn.Linear(neurons,neurons),\n",
    "    nn.LeakyReLU(),\n",
    "    nn.BatchNorm1d(neurons),\n",
    "    nn.Linear(neurons, classes )\n",
    ")    "
   ]
  },
  {
   "cell_type": "code",
   "execution_count": null,
   "id": "b29bbe4b-424d-46dd-8c27-24fe75a1552a",
   "metadata": {},
   "outputs": [],
   "source": []
  }
 ],
 "metadata": {
  "kernelspec": {
   "display_name": "Python 3 (ipykernel)",
   "language": "python",
   "name": "python3"
  },
  "language_info": {
   "codemirror_mode": {
    "name": "ipython",
    "version": 3
   },
   "file_extension": ".py",
   "mimetype": "text/x-python",
   "name": "python",
   "nbconvert_exporter": "python",
   "pygments_lexer": "ipython3",
   "version": "3.12.4"
  }
 },
 "nbformat": 4,
 "nbformat_minor": 5
}
