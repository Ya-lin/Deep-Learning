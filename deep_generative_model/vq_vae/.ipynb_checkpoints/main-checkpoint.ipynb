{
 "cells": [
  {
   "cell_type": "code",
   "execution_count": 1,
   "id": "1579eb35-e985-4f8f-b2bf-15a3c1726d44",
   "metadata": {},
   "outputs": [],
   "source": [
    "from types import SimpleNamespace\n",
    "from dataset import get_data"
   ]
  },
  {
   "cell_type": "code",
   "execution_count": 2,
   "id": "db1d87e9-1843-4cec-9ae4-1c1d017381d7",
   "metadata": {},
   "outputs": [
    {
     "name": "stdout",
     "output_type": "stream",
     "text": [
      "namespace(dataset_name='mnist', n_batch=128)\n"
     ]
    }
   ],
   "source": [
    "args = SimpleNamespace()\n",
    "args.dataset_name = 'mnist'\n",
    "args.n_batch = 128\n",
    "print(args)"
   ]
  },
  {
   "cell_type": "code",
   "execution_count": 3,
   "id": "39113d01-10da-45fd-a881-20893ef34f7c",
   "metadata": {},
   "outputs": [],
   "source": [
    "loader = get_data(args.dataset_name, args.n_batch)"
   ]
  },
  {
   "cell_type": "code",
   "execution_count": 4,
   "id": "e6bd538e-173a-458d-bdc4-fca3b6488dc7",
   "metadata": {},
   "outputs": [
    {
     "name": "stdout",
     "output_type": "stream",
     "text": [
      "torch.Size([128, 1, 28, 28])\n",
      "torch.Size([128])\n"
     ]
    }
   ],
   "source": [
    "x, y = next(iter(loader.train))\n",
    "print(f'{x.shape}\\n{y.shape}')"
   ]
  }
 ],
 "metadata": {
  "kernelspec": {
   "display_name": "Python 3 (ipykernel)",
   "language": "python",
   "name": "python3"
  },
  "language_info": {
   "codemirror_mode": {
    "name": "ipython",
    "version": 3
   },
   "file_extension": ".py",
   "mimetype": "text/x-python",
   "name": "python",
   "nbconvert_exporter": "python",
   "pygments_lexer": "ipython3",
   "version": "3.12.4"
  }
 },
 "nbformat": 4,
 "nbformat_minor": 5
}
